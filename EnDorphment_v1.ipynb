{
  "nbformat": 4,
  "nbformat_minor": 0,
  "metadata": {
    "colab": {
      "provenance": [],
      "include_colab_link": true
    },
    "kernelspec": {
      "name": "python3",
      "display_name": "Python 3"
    },
    "language_info": {
      "name": "python"
    }
  },
  "cells": [
    {
      "cell_type": "markdown",
      "metadata": {
        "id": "view-in-github",
        "colab_type": "text"
      },
      "source": [
        "<a href=\"https://colab.research.google.com/github/mrtingalingling/MorvPAC/blob/main/EnDorphment_v1.ipynb\" target=\"_parent\"><img src=\"https://colab.research.google.com/assets/colab-badge.svg\" alt=\"Open In Colab\"/></a>"
      ]
    },
    {
      "cell_type": "markdown",
      "source": [
        "## Install Pyfhel & Initiate access"
      ],
      "metadata": {
        "id": "alRZFr87SRMS"
      }
    },
    {
      "cell_type": "code",
      "source": [
        "!pip install Pyfhel"
      ],
      "metadata": {
        "colab": {
          "base_uri": "https://localhost:8080/"
        },
        "id": "HU5LLKCI7CX5",
        "outputId": "aa8377b3-0c5b-42e6-f9a9-11db08e134d3"
      },
      "execution_count": null,
      "outputs": [
        {
          "output_type": "stream",
          "name": "stdout",
          "text": [
            "Requirement already satisfied: Pyfhel in /usr/local/lib/python3.10/dist-packages (3.4.1)\n",
            "Requirement already satisfied: numpy>=1.21 in /usr/local/lib/python3.10/dist-packages (from Pyfhel) (1.23.5)\n"
          ]
        }
      ]
    },
    {
      "cell_type": "code",
      "source": [
        "import numpy as np\n",
        "from Pyfhel import Pyfhel, PyCtxt"
      ],
      "metadata": {
        "id": "ZXuSnPcT5vFW"
      },
      "execution_count": null,
      "outputs": []
    },
    {
      "cell_type": "code",
      "source": [
        "!pip install PyGithub"
      ],
      "metadata": {
        "colab": {
          "base_uri": "https://localhost:8080/"
        },
        "id": "RBj-5RxNJz3I",
        "outputId": "bb73821f-b5f0-4aef-a97e-bded348238e0"
      },
      "execution_count": null,
      "outputs": [
        {
          "output_type": "stream",
          "name": "stdout",
          "text": [
            "Requirement already satisfied: PyGithub in /usr/local/lib/python3.10/dist-packages (1.59.1)\n",
            "Requirement already satisfied: deprecated in /usr/local/lib/python3.10/dist-packages (from PyGithub) (1.2.14)\n",
            "Requirement already satisfied: pyjwt[crypto]>=2.4.0 in /usr/local/lib/python3.10/dist-packages (from PyGithub) (2.8.0)\n",
            "Requirement already satisfied: pynacl>=1.4.0 in /usr/local/lib/python3.10/dist-packages (from PyGithub) (1.5.0)\n",
            "Requirement already satisfied: requests>=2.14.0 in /usr/local/lib/python3.10/dist-packages (from PyGithub) (2.31.0)\n",
            "Requirement already satisfied: cryptography>=3.4.0 in /usr/local/lib/python3.10/dist-packages (from pyjwt[crypto]>=2.4.0->PyGithub) (41.0.3)\n",
            "Requirement already satisfied: cffi>=1.4.1 in /usr/local/lib/python3.10/dist-packages (from pynacl>=1.4.0->PyGithub) (1.15.1)\n",
            "Requirement already satisfied: charset-normalizer<4,>=2 in /usr/local/lib/python3.10/dist-packages (from requests>=2.14.0->PyGithub) (3.2.0)\n",
            "Requirement already satisfied: idna<4,>=2.5 in /usr/local/lib/python3.10/dist-packages (from requests>=2.14.0->PyGithub) (3.4)\n",
            "Requirement already satisfied: urllib3<3,>=1.21.1 in /usr/local/lib/python3.10/dist-packages (from requests>=2.14.0->PyGithub) (2.0.4)\n",
            "Requirement already satisfied: certifi>=2017.4.17 in /usr/local/lib/python3.10/dist-packages (from requests>=2.14.0->PyGithub) (2023.7.22)\n",
            "Requirement already satisfied: wrapt<2,>=1.10 in /usr/local/lib/python3.10/dist-packages (from deprecated->PyGithub) (1.14.1)\n",
            "Requirement already satisfied: pycparser in /usr/local/lib/python3.10/dist-packages (from cffi>=1.4.1->pynacl>=1.4.0->PyGithub) (2.21)\n"
          ]
        }
      ]
    },
    {
      "cell_type": "code",
      "source": [
        "# Adding GitHub access\n",
        "import requests\n",
        "from github import Github\n",
        "\n",
        "# Authentication is defined via github.Auth\n",
        "from github import Auth\n",
        "\n",
        "# using an access token\n",
        "access_token = \"github_pat_...\"\n",
        "auth = Auth.Token(access_token)\n",
        "\n",
        "# Public Web Github\n",
        "g = Github(auth=auth)\n",
        "repo = g.get_repo(\"mrtingalingling/MorvPAC\")\n",
        "\n",
        "print(repo.name)\n",
        "# To close connections after use\n",
        "# g.close()"
      ],
      "metadata": {
        "colab": {
          "base_uri": "https://localhost:8080/"
        },
        "id": "rYv5Z_c8JuR_",
        "outputId": "693b5d17-3c89-4d00-93f0-5532d1f06460"
      },
      "execution_count": null,
      "outputs": [
        {
          "output_type": "stream",
          "name": "stdout",
          "text": [
            "MorvPAC\n"
          ]
        }
      ]
    },
    {
      "cell_type": "markdown",
      "source": [
        "## Encryption Context & Client Setup\n",
        "\n",
        "\"All these schemes are based on the hardness\n",
        "of the Ring Learning With Errors (RLWE) problem, where noise is added during encryption and key generation to achieve the hardness properties. The noise grows as encrypted computations are performed, and the main functional parameter in all these schemes, the ciphertext modulus Q,\n",
        "needs to be large enough to accommodate the noise growth, or a special bootstrapping procedure may be used to reset the noise and keep the value of Q relatively small.\" -- https://eprint.iacr.org/2021/204.pdf"
      ],
      "metadata": {
        "id": "LwvAakwZ9O9E"
      }
    },
    {
      "cell_type": "code",
      "source": [
        "# Generate Pyfhel session\n",
        "print(f\"[Client] Initializing Pyfhel session and data...\")\n",
        "HE_client = Pyfhel()           # Creating empty Pyfhel object\n",
        "HE_client.contextGen(scheme='bfv', n=2**14, t_bits=20) # Not going to think about this for now\n",
        "                        # The n defines the number of plaintext slots.\n",
        "                        # https://pyfhel.readthedocs.io/en/latest/_autosummary/Pyfhel.Pyfhel.html#Pyfhel.Pyfhel.contextGen\n",
        "HE_client.keyGen()             # Key Generation: generates a pair of public/secret keys\n",
        "HE_client.relinKeyGen()\n",
        "HE_client.rotateKeyGen()"
      ],
      "metadata": {
        "colab": {
          "base_uri": "https://localhost:8080/"
        },
        "id": "e-FH0-kF5wZj",
        "outputId": "bd939457-286b-4e71-a3f1-37e73172a301"
      },
      "execution_count": null,
      "outputs": [
        {
          "output_type": "stream",
          "name": "stdout",
          "text": [
            "[Client] Initializing Pyfhel session and data...\n"
          ]
        }
      ]
    },
    {
      "cell_type": "markdown",
      "source": [
        "## 1. Verified Users\n",
        "After the user has logged in to the app, we would double check user's eligibility to vote through MFA:\n",
        "\n",
        "1. Eligible voters would receive a voting verification code (VVC)\n",
        "2. The VVC would be entered at the same time as the MFA\n"
      ],
      "metadata": {
        "id": "jEd1UzNQ5zAS"
      }
    },
    {
      "cell_type": "code",
      "execution_count": null,
      "metadata": {
        "id": "jOF0Bd6-aIwp",
        "colab": {
          "base_uri": "https://localhost:8080/"
        },
        "outputId": "8f6e00a0-6553-4455-c1f9-cc02828dd1ef"
      },
      "outputs": [
        {
          "output_type": "stream",
          "name": "stdout",
          "text": [
            "Assuming 100 users\n",
            "Number of Users generated:  100\n",
            "Number of Votes Yes:  43\n",
            "Sampled User Hash:  NYO3HQV\n"
          ]
        }
      ],
      "source": [
        "## Create user\n",
        "import random\n",
        "import string\n",
        "from collections import defaultdict\n",
        "\n",
        "number_of_users = 100\n",
        "user_dict = defaultdict(dict)\n",
        "print(f\"Assuming {number_of_users} users\")\n",
        "\n",
        "# initializing size of string\n",
        "N = 7\n",
        "\n",
        "for each_user in range(number_of_users):\n",
        "  # Use the while loop to ensure user hash is unique\n",
        "  while len(user_dict.keys()) <= each_user:\n",
        "    # generating random strings as user hash\n",
        "    res = ''.join(random.choices(string.ascii_uppercase + string.digits, k=N))\n",
        "    if res not in user_dict.keys():\n",
        "      # [random.randint(0, 5) for _ in range(number_of_choices)]\n",
        "      user_dict[res] = random.randint(0, 1)\n",
        "\n",
        "# print result\n",
        "print(\"Number of Users generated: \", len(user_dict.keys()))\n",
        "print(\"Number of Votes Yes: \", sum(user_dict.values()))\n",
        "print(\"Sampled User Hash: \", list(user_dict.keys())[0])\n"
      ]
    },
    {
      "cell_type": "markdown",
      "source": [
        "## 2. Encrypt Votes\n"
      ],
      "metadata": {
        "id": "rhr_3JwHIYUY"
      }
    },
    {
      "cell_type": "code",
      "source": [
        "import time\n",
        "# Generate and encrypt data\n",
        "# result_arr = np.array(list(user_dict.values()))\n",
        "# cx = HE_client.encrypt(result_arr)\n",
        "# print(f\"[Client] sending HE_client={HE_client} and cx={cx}\")\n",
        "\n",
        "def encryptResponse(HE, result: int) -> Pyfhel:\n",
        "  return HE.encryptInt(np.array([result], dtype=np.int64))\n",
        "\n",
        "cx_ls = []\n",
        "\n",
        "for _user, _response in user_dict.items():\n",
        "  cx = encryptResponse(HE_client, _response)\n",
        "  time.sleep(0.005)\n",
        "  # print(f\"[Client] sending HE_client={HE_client} and cx={cx}\")\n",
        "  cx_ls.append(cx)\n",
        "\n",
        "event = \"Test\""
      ],
      "metadata": {
        "id": "8zbkPAx37gU0"
      },
      "execution_count": null,
      "outputs": []
    },
    {
      "cell_type": "code",
      "source": [
        "con_size, con_size_zstd   = HE_client.sizeof_context(),    HE_client.sizeof_context(compr_mode=\"zstd\")\n",
        "pk_size,  pk_size_zstd    = HE_client.sizeof_public_key(), HE_client.sizeof_public_key(compr_mode=\"zstd\")\n",
        "sk_size,  sk_size_zstd    = HE_client.sizeof_secret_key(), HE_client.sizeof_secret_key(compr_mode=\"zstd\")\n",
        "rotk_size,rotk_size_zstd  = HE_client.sizeof_rotate_key(), HE_client.sizeof_rotate_key(compr_mode=\"zstd\")\n",
        "rlk_size, rlk_size_zstd   = HE_client.sizeof_relin_key(),  HE_client.sizeof_relin_key(compr_mode=\"zstd\")\n",
        "c_size,   c_size_zstd     = cx.sizeof_ciphertext(),  cx.sizeof_ciphertext(compr_mode=\"zstd\")\n",
        "# alternatively, for ciphertext sizes you can use sys.getsizeof(c)\n",
        "\n",
        "print(\"2. Checking size of serializable objects (with and without compression)\")\n",
        "print(f\"   - context:    [ \\\"zstd\\\"  --> {con_size_zstd} | No compression --> {con_size}]\")\n",
        "print(f\"   - public_key: [ \\\"zstd\\\"  --> {pk_size_zstd} | No compression --> {pk_size}]\")\n",
        "print(f\"   - secret_key: [ \\\"zstd\\\"  --> {sk_size_zstd} | No compression --> {sk_size}]\")\n",
        "print(f\"   - relin_key:  [ \\\"zstd\\\"  --> {rotk_size_zstd} | No compression --> {rotk_size}]\")\n",
        "print(f\"   - rotate_key: [ \\\"zstd\\\"  --> {rlk_size_zstd} | No compression --> {rlk_size}]\")\n",
        "print(f\"   - c:          [ \\\"zstd\\\"  --> {c_size_zstd} | No compression --> {c_size}]\")"
      ],
      "metadata": {
        "colab": {
          "base_uri": "https://localhost:8080/"
        },
        "id": "TtXg7slzXEZk",
        "outputId": "4d5bf022-d86e-42cf-cebc-56cc4bdeed32"
      },
      "execution_count": null,
      "outputs": [
        {
          "output_type": "stream",
          "name": "stdout",
          "text": [
            "2. Checking size of serializable objects (with and without compression)\n",
            "   - context:    [ \"zstd\"  --> 337 | No compression --> 273]\n",
            "   - public_key: [ \"zstd\"  --> 2368625 | No compression --> 2359409]\n",
            "   - secret_key: [ \"zstd\"  --> 1184344 | No compression --> 1179736]\n",
            "   - relin_key:  [ \"zstd\"  --> 492805731 | No compression --> 490888200]\n",
            "   - rotate_key: [ \"zstd\"  --> 18949067 | No compression --> 18875336]\n",
            "   - c:          [ \"zstd\"  --> 2105457 | No compression --> 2097265]\n"
          ]
        }
      ]
    },
    {
      "cell_type": "markdown",
      "source": [
        "## 3. Prep Data for uploading them to public server"
      ],
      "metadata": {
        "id": "RcOpmwtZj-rk"
      }
    },
    {
      "cell_type": "code",
      "source": [
        "# Serializing data and public context information\n",
        "s_context    = HE_client.to_bytes_context()\n",
        "s_public_key = HE_client.to_bytes_public_key()\n",
        "s_relin_key  = HE_client.to_bytes_relin_key()\n",
        "s_rotate_key = HE_client.to_bytes_rotate_key()\n",
        "s_cx         = cx.to_bytes()\n",
        "s_secret_key = HE_client.to_bytes_secret_key()\n",
        "\n",
        "print(\"Save all objects into byte-strings\")\n",
        "print(f\"   - s_context: {s_context[:10]}...\")\n",
        "print(f\"   - s_public_key: {s_public_key[:10]}...\")\n",
        "print(f\"   - s_relin_key: {s_relin_key[:10]}...\")\n",
        "print(f\"   - s_rotate_key: {s_rotate_key[:10]}...\")\n",
        "print(f\"   - s_c: {s_cx[:10]}...\")\n",
        "print(f\"   - s_secret_key: {s_secret_key[:10]}...\")\n"
      ],
      "metadata": {
        "colab": {
          "base_uri": "https://localhost:8080/"
        },
        "id": "AMfPGOPqX0Wo",
        "outputId": "b11912dc-0cff-49c9-a399-2ab03ef5a5ef"
      },
      "execution_count": null,
      "outputs": [
        {
          "output_type": "stream",
          "name": "stdout",
          "text": [
            "Save all objects into byte-strings\n",
            "   - s_context: b'\\x80\\x00\\x00\\x00\\x00\\x00\\x00\\x00\\x00\\x00'...\n",
            "   - s_public_key: b'^\\xa1\\x10\\x04\\x00\\x02\\x00\\x00\\xfeb'...\n",
            "   - s_relin_key: b'^\\xa1\\x10\\x04\\x00\\x02\\x00\\x00\\xd9\\x16'...\n",
            "   - s_rotate_key: b'^\\xa1\\x10\\x04\\x00\\x02\\x00\\x00b\\xb2'...\n",
            "   - s_c: b'^\\xa1\\x10\\x04\\x00\\x00\\x00\\x00q\\x00'...\n",
            "   - s_secret_key: b'^\\xa1\\x10\\x04\\x00\\x02\\x00\\x00\\xbc\\xb1'...\n"
          ]
        }
      ]
    },
    {
      "cell_type": "code",
      "source": [
        "!pip install pyairtable"
      ],
      "metadata": {
        "colab": {
          "base_uri": "https://localhost:8080/"
        },
        "id": "PlWJgw3O7AVz",
        "outputId": "c9eac1ee-71bd-4292-8a6d-8bcfd1c1dee7"
      },
      "execution_count": null,
      "outputs": [
        {
          "output_type": "stream",
          "name": "stdout",
          "text": [
            "Requirement already satisfied: pyairtable in /usr/local/lib/python3.10/dist-packages (2.1.0.post1)\n",
            "Requirement already satisfied: inflection in /usr/local/lib/python3.10/dist-packages (from pyairtable) (0.5.1)\n",
            "Requirement already satisfied: pydantic in /usr/local/lib/python3.10/dist-packages (from pyairtable) (2.2.1)\n",
            "Requirement already satisfied: requests>=2.22.0 in /usr/local/lib/python3.10/dist-packages (from pyairtable) (2.31.0)\n",
            "Requirement already satisfied: typing-extensions in /usr/local/lib/python3.10/dist-packages (from pyairtable) (4.7.1)\n",
            "Requirement already satisfied: urllib3>=1.26 in /usr/local/lib/python3.10/dist-packages (from pyairtable) (2.0.4)\n",
            "Requirement already satisfied: charset-normalizer<4,>=2 in /usr/local/lib/python3.10/dist-packages (from requests>=2.22.0->pyairtable) (3.2.0)\n",
            "Requirement already satisfied: idna<4,>=2.5 in /usr/local/lib/python3.10/dist-packages (from requests>=2.22.0->pyairtable) (3.4)\n",
            "Requirement already satisfied: certifi>=2017.4.17 in /usr/local/lib/python3.10/dist-packages (from requests>=2.22.0->pyairtable) (2023.7.22)\n",
            "Requirement already satisfied: annotated-types>=0.4.0 in /usr/local/lib/python3.10/dist-packages (from pydantic->pyairtable) (0.5.0)\n",
            "Requirement already satisfied: pydantic-core==2.6.1 in /usr/local/lib/python3.10/dist-packages (from pydantic->pyairtable) (2.6.1)\n"
          ]
        }
      ]
    },
    {
      "cell_type": "code",
      "source": [
        "# Submit data to AirTable for audit\n",
        "AIRTABLE_API_KEY = 'pat...'\n",
        "from pyairtable import Api\n",
        "api = Api(AIRTABLE_API_KEY)\n",
        "table = api.table('appI6fmXeNf4ZYt3K', 'tbluVeNSYPOUKYxqZ')\n"
      ],
      "metadata": {
        "id": "w0CgNo9_rxzQ"
      },
      "execution_count": null,
      "outputs": []
    },
    {
      "cell_type": "code",
      "source": [
        "cx_filename = f\"/{_user}_{event}_c.ctxt\"\n",
        "context_filename = f\"/{_user}_{event}_context\"\n",
        "\n",
        "import pickle\n",
        "pkls_pyfhel = pickle.dumps(HE_client)   # pickle.dump(HE, file) to dump in a file\n",
        "pkls_ctxt   = pickle.dumps(cx)\n",
        "\n",
        "print(\"5a. Pickling Pyfhel & PyCtxt objects.\")\n",
        "print(f\"  - pkls_pyfhel: {pkls_pyfhel[:10]}...\")\n",
        "print(f\"  - pkls_ctxt: {pkls_ctxt[:10]}...\")\n"
      ],
      "metadata": {
        "colab": {
          "base_uri": "https://localhost:8080/"
        },
        "id": "7cmb4WJa-zIi",
        "outputId": "e9302682-5bc4-4f8e-ffd1-e6d3a716758c"
      },
      "execution_count": null,
      "outputs": [
        {
          "output_type": "stream",
          "name": "stdout",
          "text": [
            "5a. Pickling Pyfhel & PyCtxt objects.\n",
            "  - pkls_pyfhel: b'\\x80\\x04\\x95\\xba\\x00\\x00\\x00\\x00\\x00\\x00'...\n",
            "  - pkls_ctxt: b'\\x80\\x04\\x95\\xd7\\x00\\x00\\x00\\x00\\x00\\x00'...\n"
          ]
        }
      ]
    },
    {
      "cell_type": "code",
      "source": [
        "# Check GitHub\n",
        "# https://stackoverflow.com/questions/63427607/python-upload-files-directly-to-github-using-pygithub\n",
        "all_files = []\n",
        "contents = repo.get_contents(\"\")\n",
        "while contents:\n",
        "    file_content = contents.pop(0)\n",
        "    if file_content.type == \"dir\":\n",
        "        contents.extend(repo.get_contents(file_content.path))\n",
        "    else:\n",
        "        file = file_content\n",
        "        all_files.append(str(file).replace('ContentFile(path=\"','').replace('\")',''))\n",
        "\n",
        "# Upload to github\n",
        "def Upload2GitHub(repo, filename:str, content, gitDir:str=\"Results\"):\n",
        "  git_file = f'{gitDir}' + filename\n",
        "  print(git_file)\n",
        "  if git_file in all_files:\n",
        "      print(\"Response already recorded\")\n",
        "  else:\n",
        "      repo.create_file(git_file, \"committing files\", content, branch=\"main\")\n",
        "      print(git_file + ' CREATED')\n"
      ],
      "metadata": {
        "id": "ZYxZ2PLp_u6a"
      },
      "execution_count": null,
      "outputs": []
    },
    {
      "cell_type": "code",
      "source": [
        "Upload2GitHub(repo, cx_filename, pkls_ctxt)\n",
        "Upload2GitHub(repo, context_filename, pkls_pyfhel)\n"
      ],
      "metadata": {
        "colab": {
          "base_uri": "https://localhost:8080/"
        },
        "id": "gkNsaY-7CEBe",
        "outputId": "ea748052-17a9-4bc8-cbd2-c23e10867c23"
      },
      "execution_count": null,
      "outputs": [
        {
          "output_type": "stream",
          "name": "stdout",
          "text": [
            "Results/QL3UQVX_Test_c.ctxt\n",
            "Results/QL3UQVX_Test_c.ctxt CREATED\n",
            "Results/QL3UQVX_Test_context\n",
            "Results/QL3UQVX_Test_context CREATED\n"
          ]
        }
      ]
    },
    {
      "cell_type": "code",
      "source": [
        "table.create({\"Hash\": _user,\n",
        "              \"Context\": \"https://github.com/mrtingalingling/MorvPAC/blob/main/Results\" + context_filename,\n",
        "              \"Response\": \"https://github.com/mrtingalingling/MorvPAC/blob/main/Results\" + cx_filename,\n",
        "              \"Event\": event\n",
        "              })"
      ],
      "metadata": {
        "colab": {
          "base_uri": "https://localhost:8080/"
        },
        "id": "nkW1xuaO_BZB",
        "outputId": "a8625970-8d43-4a58-948a-2813750fd056"
      },
      "execution_count": null,
      "outputs": [
        {
          "output_type": "execute_result",
          "data": {
            "text/plain": [
              "{'id': 'recnIRpnh8Hm5O7d0',\n",
              " 'createdTime': '2023-09-02T23:12:42.000Z',\n",
              " 'fields': {'Hash': 'QL3UQVX',\n",
              "  'Context': 'https://github.com/mrtingalingling/MorvPAC/blob/main/Results/QL3UQVX_Test_context',\n",
              "  'Response': 'https://github.com/mrtingalingling/MorvPAC/blob/main/Results/QL3UQVX_Test_c.ctxt',\n",
              "  'Event': 'Test',\n",
              "  'Submission Time': '2023-09-02T23:12:42.000Z',\n",
              "  'Modified Time': '2023-09-02T23:12:42.000Z'}}"
            ]
          },
          "metadata": {},
          "execution_count": 174
        }
      ]
    },
    {
      "cell_type": "markdown",
      "source": [
        "## 4. Loaded and operate the data from the server"
      ],
      "metadata": {
        "id": "xUvqgJTqkYiT"
      }
    },
    {
      "cell_type": "code",
      "source": [
        "# Load the objects, just call `pickle.loads`\n",
        "HE_b = pickle.loads(pkls_pyfhel) # pickle.load(file) to load from file\n",
        "cx_b = pickle.loads(pkls_ctxt)\n",
        "print(f\"[Server] received HE_server={HE_b} and cx={cx}\")\n",
        "\n",
        "ctxtSum = 0\n",
        "for v in cx_ls:\n",
        "  ctxtSum += v\n",
        "\n",
        "print(f\"Sum: {ctxtSum}\")"
      ],
      "metadata": {
        "colab": {
          "base_uri": "https://localhost:8080/"
        },
        "id": "FYN9WxfnWqGU",
        "outputId": "0301cb4e-0dc1-4baa-ccf8-9eef88c113c1"
      },
      "execution_count": null,
      "outputs": [
        {
          "output_type": "stream",
          "name": "stdout",
          "text": [
            "[Server] received HE_server=<bfv Pyfhel obj at 0x79bbc98a5250, [pk:-, sk:-, rtk:-, rlk:-, contx(n=16384, t=786433, sec=128, qi=[48, 48, 48, 49, 49, 49, 49, 49, 49], scale=1.0, )]> and cx=<Pyfhel Ciphertext at 0x79bc1a1538d0, scheme=bfv, size=2/2, noiseBudget=361>\n",
            "Sum: <Pyfhel Ciphertext at 0x79bbc991ba10, scheme=bfv, size=2/2, noiseBudget=358>\n"
          ]
        }
      ]
    },
    {
      "cell_type": "markdown",
      "source": [
        "## 5. Validation"
      ],
      "metadata": {
        "id": "4pN0G3Dlm_hL"
      }
    },
    {
      "cell_type": "code",
      "source": [
        "# Load everything and quickly check if it works.\n",
        "HE_b.from_bytes_public_key(s_public_key)\n",
        "HE_b.from_bytes_secret_key(s_secret_key)\n",
        "HE_b.from_bytes_relin_key(s_relin_key)\n",
        "HE_b.from_bytes_rotate_key(s_rotate_key)\n",
        "cx_b = PyCtxt(pyfhel=HE_b, bytestring=s_cx)\n",
        "# p_b = PyPtxt(pyfhel=HE_b, bytestring=s_p)\n",
        "\n",
        "print(\"Loading everything from bytestrings.\")\n",
        "# Some checks\n",
        "assert HE_b.decryptInt(HE_b.encryptInt(np.array([42], dtype=np.int64)))[0]==42, \"Incorrect encryption\"\n",
        "assert HE_b.decryptInt(cx_b)[0]==_response, \"Incorrect decryption/ciphertext\"\n",
        "# assert HE_b.decodeInt(p_b)[0]==-1, \"Incorrect decoding\"\n",
        "assert HE_b.decryptInt(cx_b >> 1)[1]==_response, \"Incorrect Rotation\"\n",
        "c_relin = cx_b**2\n",
        "~c_relin\n",
        "assert c_relin.size()==2, \"Incorrect relinearization\"\n",
        "print(\"  All checks passed! Loaded from bytestrings correctly\")\n",
        "\n",
        "# Decrypt the final result\n",
        "resSum = HE_b.decryptInt(ctxtSum)\n",
        "\n",
        "print(\"#. Decrypting result:\")\n",
        "print(\"     addition:       decrypt(ctxtSum) =  \", resSum[0])\n",
        "assert resSum[0]==sum(user_dict.values()), \"Incorrect addition\"\n",
        "\n",
        "for each_value in resSum:\n",
        "  if each_value != 0:\n",
        "    print(each_value)"
      ],
      "metadata": {
        "colab": {
          "base_uri": "https://localhost:8080/"
        },
        "id": "g0yr0b2j9BJ2",
        "outputId": "2517efd8-b765-4e6e-c4f0-14c2878145d1"
      },
      "execution_count": null,
      "outputs": [
        {
          "output_type": "stream",
          "name": "stdout",
          "text": [
            "Loading everything from bytestrings.\n",
            "  All checks passed! Loaded from bytestrings correctly\n",
            "#. Decrypting result:\n",
            "     addition:       decrypt(ctxtSum) =   43\n",
            "43\n"
          ]
        }
      ]
    },
    {
      "cell_type": "markdown",
      "source": [
        "Every user would submit an encrypted vote (essentially, a +1 on every candidate they approve of, and a +0 on every candidate they do not approve of). A file comprised of ALL of these votes would amount to the election result.\n",
        "\n",
        "Anyone could download that file, check that their vote is part of the file, then compute the sum of all the encrypted votes, which must amount to the published election results.\n",
        "\n",
        "Results: https://airtable.com/appI6fmXeNf4ZYt3K/shrzYGBi3roRJFKQr"
      ],
      "metadata": {
        "id": "kVP2-F5oigQz"
      }
    }
  ]
}